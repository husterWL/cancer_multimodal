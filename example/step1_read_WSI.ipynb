{
 "cells": [
  {
   "cell_type": "code",
   "execution_count": 4,
   "metadata": {
    "colab": {},
    "colab_type": "code",
    "id": "OEgyUGv8F1d7"
   },
   "outputs": [],
   "source": [
    "import numpy as np\n",
    "import cv2\n",
    "import matplotlib.pyplot as plt\n",
    "import os\n",
    "import skimage.io as skio\n",
    "import openslide"
   ]
  },
  {
   "cell_type": "markdown",
   "metadata": {
    "colab_type": "text",
    "id": "SOUO_FDBWj1K"
   },
   "source": [
    "## Get Whole Slide Image"
   ]
  },
  {
   "cell_type": "markdown",
   "metadata": {
    "colab_type": "text",
    "id": "jCUpj1ZsWj1L"
   },
   "source": [
    "Convert scanned digital slides of .svs into .png format using openslide"
   ]
  },
  {
   "cell_type": "code",
   "execution_count": 1,
   "metadata": {
    "colab": {},
    "colab_type": "code",
    "id": "HNhP33LOWj1P",
    "outputId": "f4220de9-eeb3-4259-8082-3e617e1868f1"
   },
   "outputs": [
    {
     "ename": "NameError",
     "evalue": "name 'os' is not defined",
     "output_type": "error",
     "traceback": [
      "\u001b[1;31m---------------------------------------------------------------------------\u001b[0m",
      "\u001b[1;31mNameError\u001b[0m                                 Traceback (most recent call last)",
      "Input \u001b[1;32mIn [1]\u001b[0m, in \u001b[0;36m<cell line: 2>\u001b[1;34m()\u001b[0m\n\u001b[0;32m      1\u001b[0m \u001b[38;5;66;03m# read slides in .svs from dir \u001b[39;00m\n\u001b[1;32m----> 2\u001b[0m slidelist \u001b[38;5;241m=\u001b[39m \u001b[43mos\u001b[49m\u001b[38;5;241m.\u001b[39mlistdir(\u001b[38;5;124m\"\u001b[39m\u001b[38;5;124m./slides\u001b[39m\u001b[38;5;124m\"\u001b[39m)\n\u001b[0;32m      4\u001b[0m \u001b[38;5;28;01mfor\u001b[39;00m slidei \u001b[38;5;129;01min\u001b[39;00m slidelist[:]:\n\u001b[0;32m      5\u001b[0m     \u001b[38;5;28mprint\u001b[39m(slidei)\n",
      "\u001b[1;31mNameError\u001b[0m: name 'os' is not defined"
     ]
    }
   ],
   "source": [
    "# read slides in .svs from dir \n",
    "slidelist = os.listdir(\"./slides\")\n",
    "\n",
    "for slidei in slidelist[:]:\n",
    "    print(slidei)\n",
    "    idi = slidei.split('_')[0]\n",
    "    \n",
    "    # open slide.svs\n",
    "    slide_0 = openslide.OpenSlide('./slides/{}'.format(slidei))\n",
    "    levels = slide_0.level_dimensions\n",
    "    print(\"stored slide size pyramid\",levels)\n",
    "\n",
    "    # fetch levels[2] size of whole WSI region \n",
    "    slide = slide_0.read_region((0,0),2,levels[2])\n",
    "    slide = np.asarray(slide)\n",
    "    print(\"fetched shape\",slide.shape)\n",
    "\n",
    "    # origin slide is in RGBA format, convert it to RGB and save to model data dir\n",
    "    slide = cv2.cvtColor(slide, cv2.COLOR_RGBA2RGB)\n",
    "    skio.imsave('../data/WSI/slide_{}.png'.format(idi),slide.astype(\"uint8\"))\n",
    "    plt.imshow(slide)\n",
    "    plt.show()"
   ]
  },
  {
   "cell_type": "markdown",
   "metadata": {
    "colab_type": "text",
    "id": "P08zR13YWj1S"
   },
   "source": [
    "## Get Whole Slide Mask"
   ]
  },
  {
   "cell_type": "markdown",
   "metadata": {
    "colab_type": "text",
    "id": "2OqB5xj_Wj1S"
   },
   "source": [
    "Convert annotations of objects into binary mask, usually reconstruct from contour line locations or contour mask images  "
   ]
  },
  {
   "cell_type": "code",
   "execution_count": null,
   "metadata": {
    "colab": {
     "base_uri": "https://localhost:8080/",
     "height": 189
    },
    "colab_type": "code",
    "executionInfo": {
     "elapsed": 1081,
     "status": "ok",
     "timestamp": 1592982266054,
     "user": {
      "displayName": "Xiang Li",
      "photoUrl": "",
      "userId": "01788462141790118705"
     },
     "user_tz": 240
    },
    "id": "ZhuMq_ZlWj1T",
    "outputId": "c919159d-daa3-43cc-c434-2c32d8b86e63"
   },
   "outputs": [
    {
     "data": {
      "image/png": "[encoded data removed]",
      "text/plain": [
       "<Figure size 432x288 with 1 Axes>"
      ]
     },
     "metadata": {
      "needs_background": "light",
      "tags": []
     },
     "output_type": "display_data"
    }
   ],
   "source": [
    "# display one result mask\n",
    "idi = \"O27\"\n",
    "mask = skio.imread('../data/WSI/mask_{}.png'.format(idi))\n",
    "plt.imshow(mask,cmap=\"gray\")\n",
    "plt.title(\"Whole Slide Mask of non-sclerotic glomeruli for {}\".format(idi))\n",
    "plt.show()"
   ]
  },
  {
   "cell_type": "markdown",
   "metadata": {
    "colab_type": "text",
    "id": "_8-SJQNGWj1V"
   },
   "source": [
    "## Get training/testing patches"
   ]
  },
  {
   "cell_type": "markdown",
   "metadata": {
    "colab_type": "text",
    "id": "9RKI7ZnuWj1W"
   },
   "source": [
    "Extract fixed size random patches of slide and mask from whole slide region for model training/testing  "
   ]
  },
  {
   "cell_type": "code",
   "execution_count": 2,
   "metadata": {
    "colab": {},
    "colab_type": "code",
    "id": "o5CBNo6RWj1W"
   },
   "outputs": [],
   "source": [
    "# return a mask patch with start location\n",
    "def random_crop_mask(mask, crop_size):\n",
    "    (height, width) = mask.shape\n",
    "    dx = crop_size\n",
    "    dy = crop_size\n",
    "    x = np.random.randint(0, width - dx + 1)\n",
    "    y = np.random.randint(0, height - dy + 1)\n",
    "    mask_extract = mask[y:(y+dy), x:(x+dx)]\n",
    "    return  mask_extract, y, x"
   ]
  },
  {
   "cell_type": "code",
   "execution_count": 12,
   "metadata": {
    "colab": {},
    "colab_type": "code",
    "id": "M_CrdEurKu9V"
   },
   "outputs": [
    {
     "name": "stdout",
     "output_type": "stream",
     "text": [
      "O27\n",
      "# of patches: 50\n"
     ]
    }
   ],
   "source": [
    "slidelist = os.listdir(\"./slides\")\n",
    "for slidei in slidelist[:]:\n",
    "    idi = slidei.split('_')[0]\n",
    "    print(idi)\n",
    "    \n",
    "    # create folder for extracted patches of one whole slide\n",
    "    dirname = './masks_patch/{}'.format(idi)\n",
    "    os.mkdir(dirname)\n",
    "    dirname = './slides_patch/{}'.format(idi)\n",
    "    os.mkdir(dirname)\n",
    "    \n",
    "    # read whole slide\n",
    "    slide = skio.imread('../data/WSI/slide_{}.png'.format(idi))\n",
    "    mask = skio.imread('../data/WSI/mask_{}.png'.format(idi))[:,:,0]/255\n",
    "   \n",
    "    # extract patches\n",
    "    cnt = 0\n",
    "    crop_size = 256\n",
    "    batch = 500\n",
    "    for i in range(batch):\n",
    "        mask_extract, y, x = random_crop_mask(mask, crop_size)\n",
    "        area = np.sum(mask_extract)\n",
    "        \n",
    "        # choose patch of region containing some parts of glom object (mask=1)\n",
    "        if area > 500:  # a good patch to extract, area can be adjusted  \n",
    "            cnt += 1 \n",
    "            region_extract = slide[y:y+crop_size,x:x+crop_size]\n",
    "            \n",
    "            # record patch id and location\n",
    "            skio.imsave('./masks_patch/{}/mask_{}_{}_{}_{}.png'.format(idi,idi,cnt,y,x), mask_extract.astype(np.uint8)*255)\n",
    "            skio.imsave('./slides_patch/{}/slide_{}_{}_{}_{}.png'.format(idi,idi,cnt,y,x), region_extract)\n",
    "        # limit patch numbers for one slide\n",
    "        if(cnt>=50): \n",
    "            break\n",
    "    print('# of patches:',cnt)"
   ]
  },
  {
   "cell_type": "code",
   "execution_count": null,
   "metadata": {},
   "outputs": [],
   "source": []
  }
 ],
 "metadata": {
  "colab": {
   "collapsed_sections": [],
   "name": "step1_read_WSI.ipynb",
   "provenance": []
  },
  "kernelspec": {
   "display_name": "base",
   "language": "python",
   "name": "python3"
  },
  "language_info": {
   "codemirror_mode": {
    "name": "ipython",
    "version": 3
   },
   "file_extension": ".py",
   "mimetype": "text/x-python",
   "name": "python",
   "nbconvert_exporter": "python",
   "pygments_lexer": "ipython3",
   "version": "3.9.12"
  }
 },
 "nbformat": 4,
 "nbformat_minor": 1
}
